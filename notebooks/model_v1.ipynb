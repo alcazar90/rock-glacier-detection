{
 "cells": [
  {
   "cell_type": "code",
   "execution_count": 1,
   "id": "1d7735c3",
   "metadata": {},
   "outputs": [],
   "source": [
    "import os\n",
    "\n",
    "import torch\n",
    "import torch.nn as nn\n",
    "import torch.nn.functional as F\n",
    "from torchvision.io import read_image\n",
    "from torch.utils.data import DataLoader\n",
    "from torchvision.models.vgg import vgg19\n",
    "from torchgeo.datasets.utils import BoundingBox\n",
    "from torchvision.utils import save_image, make_grid\n",
    "from torchvision import transforms, utils, datasets\n",
    "from torch.utils.tensorboard.writer import SummaryWriter\n",
    "from torchgeo.datasets import RasterDataset, stack_samples, unbind_samples\n",
    "from torchgeo.samplers import RandomGeoSampler, PreChippedGeoSampler, GridGeoSampler\n",
    "\n",
    "import rasterio\n",
    "\n",
    "import matplotlib.pyplot as plt\n",
    "import pandas as pd\n",
    "import numpy as np\n",
    "\n",
    "from tqdm import tqdm\n",
    "\n",
    "from PIL import Image"
   ]
  },
  {
   "cell_type": "code",
   "execution_count": 2,
   "id": "7321201e",
   "metadata": {},
   "outputs": [],
   "source": [
    "def set_seed(SEED = 456):\n",
    "    np.random.seed(SEED)\n",
    "    torch.manual_seed(SEED)\n",
    "    torch.cuda.manual_seed(SEED)\n",
    "    torch.backends.cudnn.deterministic = True\n",
    "\n",
    "set_seed()"
   ]
  },
  {
   "cell_type": "code",
   "execution_count": 3,
   "id": "f617edf9",
   "metadata": {},
   "outputs": [],
   "source": [
    "# Clase que lee imagenes .tif que hereda de `RasterDataset`, clase de torchgeo\n",
    "class Sentinel2(RasterDataset):\n",
    "    filename_glob = \"*.tif\"\n",
    "    date_format = \"%Y%m%dT%H%M%S\"\n",
    "    is_image = True\n",
    "    separate_files = True\n",
    "    all_bands = [\"B02\", \"B03\", \"B04\", \"B08\"]\n",
    "    rgb_bands = [\"B04\", \"B03\", \"B02\"]\n",
    "    \n",
    "    def plot(self, sample, title=\"\"):\n",
    "        # Find the correct band index order\n",
    "        rgb_indices = []\n",
    "        for band in self.rgb_bands:\n",
    "            rgb_indices.append(self.all_bands.index(band))\n",
    "\n",
    "        # Reorder and rescale the image\n",
    "        image = sample[\"image\"][rgb_indices].permute(1, 2, 0)\n",
    "\n",
    "        fig, ax = plt.subplots(figsize=(4,4))\n",
    "        ax.set_title(title)\n",
    "        ax.imshow(image)\n",
    "\n",
    "        return fig\n",
    "    \n",
    "    def save(self, sample, name=\"\"):\n",
    "        rgb_indices = []\n",
    "        for band in self.rgb_bands:\n",
    "            rgb_indices.append(self.all_bands.index(band))\n",
    "        \n",
    "        image = sample[\"image\"][rgb_indices] #.permute(0, 1, 2)    \n",
    "        save_image(image, path + '../images_png/' + name + \".png\")"
   ]
  },
  {
   "cell_type": "markdown",
   "id": "699753ed",
   "metadata": {},
   "source": [
    "### Dataloader"
   ]
  },
  {
   "cell_type": "code",
   "execution_count": 4,
   "id": "aa4cf3ba",
   "metadata": {},
   "outputs": [],
   "source": [
    "class GlacierRock(DataLoader):\n",
    "    \"\"\" GlacierRock dataset.\"\"\"\n",
    "\n",
    "    def __init__(self, path: str, transform = None) -> None:\n",
    "        \"\"\"\n",
    "        Args:\n",
    "            path (str): Ruta donde se ubican las imagenes.\n",
    "        \"\"\"\n",
    "        super(GlacierRock).__init__()\n",
    "        self.path = path\n",
    "        self.transforms = transform\n",
    "        self.samples = []\n",
    "        \n",
    "        image_list = list(os.listdir(self.path))\n",
    "        \n",
    "        for image in image_list:\n",
    "            self.samples.append((os.path.abspath(path + '/' + image), self.label_normalize(image)))\n",
    "\n",
    "    def __len__(self):\n",
    "        return len(self.samples)\n",
    "\n",
    "    def label_normalize(self, label):\n",
    "        if label.split(\"_\")[0] == \"glaciar\":\n",
    "            return torch.tensor([1,0]).float()\n",
    "        else:\n",
    "            return torch.tensor([0,1]).float()\n",
    "    \n",
    "    def image_normalize(self, samples):\n",
    "        return (samples/255).float()\n",
    "    \n",
    "    def __getitem__(self, idx):\n",
    "        image = read_image(self.samples[idx][0])[:3]\n",
    "        image = self.image_normalize(image)\n",
    "        label = self.samples[idx][1]\n",
    "        \n",
    "        if self.transforms:\n",
    "            image = self.transforms(image)\n",
    "        \n",
    "        return image, label"
   ]
  },
  {
   "cell_type": "markdown",
   "id": "eb1ed32e",
   "metadata": {},
   "source": [
    "### Pre-entrenando el modelo VGG19"
   ]
  },
  {
   "cell_type": "code",
   "execution_count": 5,
   "id": "30efc23e",
   "metadata": {},
   "outputs": [],
   "source": [
    "class TrainingVGG19(object):\n",
    "    def __init__(self, device=None, freeze=False):\n",
    "        self.device = (\"cuda:0\" if torch.cuda.is_available() else \"cpu\") if device is None else device\n",
    "        self.model = vgg19(weights='DEFAULT')\n",
    "        self.class_names = ['Glaciar', 'Cordillera']\n",
    "        self.acc = 0\n",
    "        self.name_model = None\n",
    "        \n",
    "        if freeze:\n",
    "            for param in self.model.parameters():\n",
    "                  param.requires_grad = False\n",
    "        \n",
    "        self.model.classifier[6] = nn.Linear(self.model.classifier[6].in_features, 2) \n",
    "        self.model = self.model.to(self.device)\n",
    "        \n",
    "        self.criterion = nn.CrossEntropyLoss()\n",
    "        self.logger = SummaryWriter('logs')\n",
    "    \n",
    "    def fit(self, dataloaders, dataset_sizes, learning_rate=0.00001, epochs=15):\n",
    "        \n",
    "        self.train_logs, self.val_logs, self.acc_train_logs, self.acc_val_logs = [], [], [], []\n",
    "        optimizer = torch.optim.Adam(self.model.parameters(), lr=learning_rate)\n",
    "        \n",
    "        best_acc = 0\n",
    "        bar = tqdm(range(epochs))\n",
    "        step = 0\n",
    "        \n",
    "        for epoch in bar:\n",
    "            for phase in ['train', 'test']:\n",
    "                preds_total = 0\n",
    "                loss = 0\n",
    "                if phase == 'train':\n",
    "                    self.model.train()\n",
    "                else:\n",
    "                    self.model.eval()\n",
    "                \n",
    "                for inputs, labels in dataloaders[phase]:\n",
    "                    inputs, labels = inputs.to(self.device), labels.to(self.device)\n",
    "\n",
    "                    optimizer.zero_grad()\n",
    "\n",
    "                    with torch.set_grad_enabled(phase == 'train'):\n",
    "                        outputs = self.model(inputs)\n",
    "                        \n",
    "                        _, preds = torch.max(outputs, 1, keepdim=False)\n",
    "                        _, label = torch.max(labels, 1, keepdim=False)\n",
    "                        \n",
    "                        loss = self.criterion(outputs, labels)\n",
    "                        bar.set_description('{} Loss: {:.4f} '.format(phase, loss))\n",
    "                        \n",
    "                        if phase == 'train':\n",
    "                            loss.backward()\n",
    "                            optimizer.step()\n",
    "\n",
    "                        loss += loss.item() * inputs.size(0)\n",
    "                        preds_total += (preds == label).sum() \n",
    "                \n",
    "                epoch_loss = loss / dataset_sizes[phase]\n",
    "                epoch_acc = preds_total.double() / dataset_sizes[phase]\n",
    "                \n",
    "                if phase == 'train':\n",
    "                    self.log_train(epoch_loss, epoch_acc, epoch)\n",
    "                else:\n",
    "                    self.log_val(epoch_loss, epoch_acc, epoch)\n",
    "                    self.log_images(inputs, labels, epoch)\n",
    "\n",
    "                bar.set_description('{} Loss: {:.8f} Acc: {:.4f}'.format(phase, epoch_loss, epoch_acc))\n",
    "                \n",
    "                if phase == 'test' and epoch_acc > best_acc:\n",
    "                    best_acc = epoch_acc\n",
    "                    self.name_model = \"vgg_{:.8f}.pt\".format(epoch_loss)\n",
    "                    torch.save(self.model.state_dict(), self.name_model)\n",
    "                    \n",
    "            \n",
    "    def log_train(self, loss, acc , epoch):\n",
    "        self.logger.add_scalar('Loss/Train', loss, epoch)\n",
    "        self.train_logs.append(loss.data.cpu())\n",
    "        self.logger.add_scalar('Acc/Train', acc, epoch)\n",
    "        self.acc_train_logs.append(acc.data.cpu())\n",
    "\n",
    "    def log_val(self, loss, acc , epoch):\n",
    "        self.logger.add_scalar('Loss/Val', loss, epoch)\n",
    "        self.val_logs.append(loss.data.cpu())\n",
    "        self.logger.add_scalar('Acc/Val', acc, epoch)\n",
    "        self.acc_val_logs.append(acc.data.cpu())\n",
    "        \n",
    "    def log_images(self, image, label, epoch):\n",
    "        invTrans = transforms.Compose([transforms.Normalize(mean=[0., 0., 0.],\n",
    "                                                            std=[1/0.229, 1/0.224, 1/0.225]\n",
    "                                                           ),\n",
    "                                       transforms.Normalize(mean=[-0.485, -0.456, -0.406],\n",
    "                                                            std=[1., 1., 1.]),\n",
    "                                      ])\n",
    "        self.logger.add_image(\"{}.png\".format(self.class_names[torch.argmax(label[0])]), invTrans(image[0]), epoch)\n",
    "\n",
    "\n",
    "    def plot(self, title=\"Titulo\", savefig=False):\n",
    "        fig, axes = plt.subplots(1, 2, figsize=(16, 7))\n",
    "        \n",
    "        axes[0].plot(range(len(self.train_logs)), self.train_logs, label=\"Training Loss\")\n",
    "        axes[0].plot(range(len(self.val_logs)), self.val_logs, label=\"Validation Loss\")\n",
    "        axes[0].set_title(\"Loss \" + title)\n",
    "        axes[0].set_xlabel('Epochs')\n",
    "        axes[0].set_ylabel('Loss')\n",
    "        axes[0].legend()\n",
    "        axes[1].plot(range(len(self.val_logs)), self.acc_val_logs, label=\"Validation Accuracy\")\n",
    "        axes[1].set_title(\"Accuracy \" + title)\n",
    "        axes[1].set_xlabel('Epochs')\n",
    "        axes[1].set_ylabel('Accuracy')\n",
    "        axes[1].legend()\n",
    "\n",
    "        plt.show()"
   ]
  },
  {
   "cell_type": "markdown",
   "id": "58125f0e",
   "metadata": {},
   "source": [
    "Se definen las transformaciones a realizar."
   ]
  },
  {
   "cell_type": "code",
   "execution_count": 7,
   "id": "8658d594",
   "metadata": {},
   "outputs": [],
   "source": [
    "data_transforms = {\n",
    "    'train': transforms.Compose([\n",
    "        transforms.Resize(256),\n",
    "        transforms.CenterCrop(224),\n",
    "        transforms.RandomRotation([90, 270]),\n",
    "        transforms.Normalize([0.485, 0.456, 0.406], [0.229, 0.224, 0.225]),\n",
    "    ]),\n",
    "    'test': transforms.Compose([\n",
    "        transforms.Resize(256),\n",
    "        transforms.CenterCrop(224),\n",
    "        transforms.RandomRotation([90, 270]),\n",
    "        transforms.Normalize([0.485, 0.456, 0.406], [0.229, 0.224, 0.225])\n",
    "    ])\n",
    "}"
   ]
  },
  {
   "cell_type": "markdown",
   "id": "5130278b",
   "metadata": {},
   "source": [
    "#### Opción 1 para cargar los datos"
   ]
  },
  {
   "cell_type": "code",
   "execution_count": 8,
   "id": "6a84bfd3",
   "metadata": {
    "scrolled": true
   },
   "outputs": [
    {
     "name": "stderr",
     "output_type": "stream",
     "text": [
      "Using custom data configuration alkzar90--rock-glacier-dataset-b8ccc0c21907cfa7\n",
      "Found cached dataset imagefolder (/home/chr/.cache/huggingface/datasets/alkzar90___imagefolder/alkzar90--rock-glacier-dataset-b8ccc0c21907cfa7/0.0.0/37fbb85cc714a338bea574ac6c7d0b5be5aff46c1862c1989b20e0771199e93f)\n"
     ]
    },
    {
     "data": {
      "application/json": {
       "ascii": false,
       "bar_format": null,
       "colour": null,
       "elapsed": 0.015726089477539062,
       "initial": 0,
       "n": 0,
       "ncols": null,
       "nrows": 24,
       "postfix": null,
       "prefix": "",
       "rate": null,
       "total": 2,
       "unit": "it",
       "unit_divisor": 1000,
       "unit_scale": false
      },
      "application/vnd.jupyter.widget-view+json": {
       "model_id": "555defbfa7fb44c3b3c0e557afa0100f",
       "version_major": 2,
       "version_minor": 0
      },
      "text/plain": [
       "  0%|          | 0/2 [00:00<?, ?it/s]"
      ]
     },
     "metadata": {},
     "output_type": "display_data"
    }
   ],
   "source": [
    "from datasets import load_dataset\n",
    "\n",
    "data = load_dataset('alkzar90/rock-glacier-dataset')"
   ]
  },
  {
   "cell_type": "code",
   "execution_count": 9,
   "id": "518e0868",
   "metadata": {},
   "outputs": [],
   "source": [
    "def normalize(value):\n",
    "    if value == 1:\n",
    "        return torch.tensor([1,0]).float()\n",
    "    else:\n",
    "        return torch.tensor([0,1]).float()\n",
    "\n",
    "def transform(examples, transform_compose):\n",
    "    return [\n",
    "        (\n",
    "            transform_compose(transforms.ToTensor()(image)),\n",
    "            normalize(label)\n",
    "        ) for image, label in zip(examples['image'], examples['label'])\n",
    "    ]"
   ]
  },
  {
   "cell_type": "code",
   "execution_count": 10,
   "id": "6eadc3c2",
   "metadata": {},
   "outputs": [],
   "source": [
    "image_datasets = {\n",
    "    phase: transform(data[phase], data_transforms[phase]) for phase in ['train', 'test']\n",
    "}"
   ]
  },
  {
   "cell_type": "markdown",
   "id": "e89f146c",
   "metadata": {},
   "source": [
    "---------------------------"
   ]
  },
  {
   "cell_type": "markdown",
   "id": "0eef9fe1",
   "metadata": {},
   "source": [
    "#### Opción 2 para cargar los datos"
   ]
  },
  {
   "cell_type": "markdown",
   "id": "cd94082d",
   "metadata": {},
   "source": [
    "La estructura es la sgte:\n",
    "<pre>├── <font color=\"#12488B\"><b>test</b></font>\n",
    "│   ├── <font color=\"#A347BA\"><b>cordillera_800.png</b></font>\n",
    "│   ├── <font color=\"#A347BA\"><b>cordillera_801.png</b></font>\n",
    "│   ├── <font color=\"#A347BA\"><b>cordillera_802.png</b></font>\n",
    "│   ├── <font color=\"#A347BA\"><b>cordillera_803.png</b></font>\n",
    "│   ├── <font color=\"#A347BA\"><b>cordillera_804.png</b></font>\n",
    "│   ├── <font color=\"#A347BA\"><b>cordillera_805.png</b></font>\n",
    "</pre>\n",
    "<pre>└── <font color=\"#12488B\"><b>train</b></font>\n",
    "    ├── <font color=\"#A347BA\"><b>cordillera_000.png</b></font>\n",
    "    ├── <font color=\"#A347BA\"><b>cordillera_001.png</b></font>\n",
    "    ├── <font color=\"#A347BA\"><b>cordillera_002.png</b></font>\n",
    "    ├── <font color=\"#A347BA\"><b>cordillera_003.png</b></font>\n",
    "    ├── <font color=\"#A347BA\"><b>cordillera_004.png</b></font>\n",
    "    ├── <font color=\"#A347BA\"><b>cordillera_005.png</b></font>\n",
    "</pre>\n",
    "- Todos los archivos de `cordillera_train.rar` y `glaciares_train.rar` se van a la carpeta train.\n",
    "- Todos los archivos de `cordillera_val.rar` y `glaciares_val.rar` se van a test."
   ]
  },
  {
   "cell_type": "code",
   "execution_count": 4,
   "id": "bacb8da1",
   "metadata": {},
   "outputs": [],
   "source": [
    "path = \"/capeta/nuevos/datos/\""
   ]
  },
  {
   "cell_type": "code",
   "execution_count": 131,
   "id": "81afdbb2",
   "metadata": {},
   "outputs": [],
   "source": [
    "image_datasets = {\n",
    "    phase: GlacierRock(path + phase, data_transforms[phase]) for phase in ['train', 'test']\n",
    "}"
   ]
  },
  {
   "cell_type": "code",
   "execution_count": 132,
   "id": "27676b1d",
   "metadata": {},
   "outputs": [],
   "source": [
    "dataset_sizes = {\n",
    "    x: len(image_datasets[x]) for x in ['train', 'test']\n",
    "}"
   ]
  },
  {
   "cell_type": "markdown",
   "id": "ff474e71",
   "metadata": {},
   "source": [
    "------------------------"
   ]
  },
  {
   "cell_type": "markdown",
   "id": "e92142c3",
   "metadata": {},
   "source": [
    "Se crea el dataloader para el conjunto de train y test"
   ]
  },
  {
   "cell_type": "code",
   "execution_count": 133,
   "id": "0a15c20d",
   "metadata": {},
   "outputs": [],
   "source": [
    "dataloaders = {\n",
    "    phase: torch.utils.data.DataLoader(\n",
    "        image_datasets[phase], \n",
    "        batch_size=64,\n",
    "        shuffle=True\n",
    "    ) for phase in ['train', 'test']\n",
    "}"
   ]
  },
  {
   "cell_type": "code",
   "execution_count": 162,
   "id": "22db2c8a",
   "metadata": {},
   "outputs": [],
   "source": [
    "epochs = 3\n",
    "learning_rate = 0.00005\n",
    "device = 'cuda:0'"
   ]
  },
  {
   "cell_type": "code",
   "execution_count": 163,
   "id": "12ff6d18",
   "metadata": {},
   "outputs": [],
   "source": [
    "rg_model = TrainingVGG19(freeze=False)"
   ]
  },
  {
   "cell_type": "markdown",
   "id": "c575b1be",
   "metadata": {},
   "source": [
    "La clase `TrainingVGG19` creará una carpeta /logs donde guardará métricas e imágenes del entrenamiento."
   ]
  },
  {
   "cell_type": "code",
   "execution_count": 164,
   "id": "b3c302bc",
   "metadata": {
    "scrolled": true
   },
   "outputs": [
    {
     "name": "stderr",
     "output_type": "stream",
     "text": [
      "test Loss: 0.04135174 Acc: 0.7966: 100%|██████████| 3/3 [00:37<00:00, 12.40s/it]\n"
     ]
    }
   ],
   "source": [
    "rg_model.fit(dataloaders, dataset_sizes, learning_rate=learning_rate, epochs=epochs)"
   ]
  },
  {
   "cell_type": "code",
   "execution_count": 150,
   "id": "e272f549",
   "metadata": {},
   "outputs": [
    {
     "data": {
      "image/png": "[encoded data removed]",
      "text/plain": [
       "<Figure size 1600x700 with 2 Axes>"
      ]
     },
     "metadata": {},
     "output_type": "display_data"
    }
   ],
   "source": [
    "rg_model.plot(\"vgg19\")"
   ]
  },
  {
   "cell_type": "markdown",
   "id": "c0327a8b",
   "metadata": {},
   "source": [
    "#### Métricas guardadas en tensorboard"
   ]
  },
  {
   "cell_type": "code",
   "execution_count": 151,
   "id": "d599bd46",
   "metadata": {},
   "outputs": [
    {
     "name": "stdout",
     "output_type": "stream",
     "text": [
      "The tensorboard extension is already loaded. To reload it, use:\n",
      "  %reload_ext tensorboard\n"
     ]
    },
    {
     "data": {
      "text/plain": [
       "Reusing TensorBoard on port 6006 (pid 10302), started 0:09:52 ago. (Use '!kill 10302' to kill it.)"
      ]
     },
     "metadata": {},
     "output_type": "display_data"
    },
    {
     "data": {
      "text/html": [
       "\n",
       "      <iframe id=\"tensorboard-frame-558256edcef7ebf7\" width=\"100%\" height=\"800\" frameborder=\"0\">\n",
       "      </iframe>\n",
       "      <script>\n",
       "        (function() {\n",
       "          const frame = document.getElementById(\"tensorboard-frame-558256edcef7ebf7\");\n",
       "          const url = new URL(\"/\", window.location);\n",
       "          const port = 6006;\n",
       "          if (port) {\n",
       "            url.port = port;\n",
       "          }\n",
       "          frame.src = url;\n",
       "        })();\n",
       "      </script>\n",
       "    "
      ],
      "text/plain": [
       "<IPython.core.display.HTML object>"
      ]
     },
     "metadata": {},
     "output_type": "display_data"
    }
   ],
   "source": [
    "%load_ext tensorboard\n",
    "%tensorboard --logdir logs"
   ]
  },
  {
   "cell_type": "markdown",
   "id": "59fa771a",
   "metadata": {},
   "source": [
    "### Cargamos el último modelo guardado"
   ]
  },
  {
   "cell_type": "code",
   "execution_count": 172,
   "id": "68e2c257",
   "metadata": {
    "scrolled": true
   },
   "outputs": [
    {
     "data": {
      "text/plain": [
       "VGG(\n",
       "  (features): Sequential(\n",
       "    (0): Conv2d(3, 64, kernel_size=(3, 3), stride=(1, 1), padding=(1, 1))\n",
       "    (1): ReLU(inplace=True)\n",
       "    (2): Conv2d(64, 64, kernel_size=(3, 3), stride=(1, 1), padding=(1, 1))\n",
       "    (3): ReLU(inplace=True)\n",
       "    (4): MaxPool2d(kernel_size=2, stride=2, padding=0, dilation=1, ceil_mode=False)\n",
       "    (5): Conv2d(64, 128, kernel_size=(3, 3), stride=(1, 1), padding=(1, 1))\n",
       "    (6): ReLU(inplace=True)\n",
       "    (7): Conv2d(128, 128, kernel_size=(3, 3), stride=(1, 1), padding=(1, 1))\n",
       "    (8): ReLU(inplace=True)\n",
       "    (9): MaxPool2d(kernel_size=2, stride=2, padding=0, dilation=1, ceil_mode=False)\n",
       "    (10): Conv2d(128, 256, kernel_size=(3, 3), stride=(1, 1), padding=(1, 1))\n",
       "    (11): ReLU(inplace=True)\n",
       "    (12): Conv2d(256, 256, kernel_size=(3, 3), stride=(1, 1), padding=(1, 1))\n",
       "    (13): ReLU(inplace=True)\n",
       "    (14): Conv2d(256, 256, kernel_size=(3, 3), stride=(1, 1), padding=(1, 1))\n",
       "    (15): ReLU(inplace=True)\n",
       "    (16): Conv2d(256, 256, kernel_size=(3, 3), stride=(1, 1), padding=(1, 1))\n",
       "    (17): ReLU(inplace=True)\n",
       "    (18): MaxPool2d(kernel_size=2, stride=2, padding=0, dilation=1, ceil_mode=False)\n",
       "    (19): Conv2d(256, 512, kernel_size=(3, 3), stride=(1, 1), padding=(1, 1))\n",
       "    (20): ReLU(inplace=True)\n",
       "    (21): Conv2d(512, 512, kernel_size=(3, 3), stride=(1, 1), padding=(1, 1))\n",
       "    (22): ReLU(inplace=True)\n",
       "    (23): Conv2d(512, 512, kernel_size=(3, 3), stride=(1, 1), padding=(1, 1))\n",
       "    (24): ReLU(inplace=True)\n",
       "    (25): Conv2d(512, 512, kernel_size=(3, 3), stride=(1, 1), padding=(1, 1))\n",
       "    (26): ReLU(inplace=True)\n",
       "    (27): MaxPool2d(kernel_size=2, stride=2, padding=0, dilation=1, ceil_mode=False)\n",
       "    (28): Conv2d(512, 512, kernel_size=(3, 3), stride=(1, 1), padding=(1, 1))\n",
       "    (29): ReLU(inplace=True)\n",
       "    (30): Conv2d(512, 512, kernel_size=(3, 3), stride=(1, 1), padding=(1, 1))\n",
       "    (31): ReLU(inplace=True)\n",
       "    (32): Conv2d(512, 512, kernel_size=(3, 3), stride=(1, 1), padding=(1, 1))\n",
       "    (33): ReLU(inplace=True)\n",
       "    (34): Conv2d(512, 512, kernel_size=(3, 3), stride=(1, 1), padding=(1, 1))\n",
       "    (35): ReLU(inplace=True)\n",
       "    (36): MaxPool2d(kernel_size=2, stride=2, padding=0, dilation=1, ceil_mode=False)\n",
       "  )\n",
       "  (avgpool): AdaptiveAvgPool2d(output_size=(7, 7))\n",
       "  (classifier): Sequential(\n",
       "    (0): Linear(in_features=25088, out_features=4096, bias=True)\n",
       "    (1): ReLU(inplace=True)\n",
       "    (2): Dropout(p=0.5, inplace=False)\n",
       "    (3): Linear(in_features=4096, out_features=4096, bias=True)\n",
       "    (4): ReLU(inplace=True)\n",
       "    (5): Dropout(p=0.5, inplace=False)\n",
       "    (6): Linear(in_features=4096, out_features=2, bias=True)\n",
       "  )\n",
       ")"
      ]
     },
     "execution_count": 172,
     "metadata": {},
     "output_type": "execute_result"
    }
   ],
   "source": [
    "model = vgg19(weights='DEFAULT')\n",
    "model.classifier[6] = nn.Linear(model.classifier[6].in_features, 2)\n",
    "model.load_state_dict(torch.load(rg_model.name_model))\n",
    "model.eval().to('cuda:0')"
   ]
  },
  {
   "cell_type": "markdown",
   "id": "5f38737a",
   "metadata": {},
   "source": [
    "Ahora se podría testear con otra zona. Puedo sacar algunos glaciares de arg. al ojo."
   ]
  },
  {
   "cell_type": "code",
   "execution_count": null,
   "id": "8500301e",
   "metadata": {},
   "outputs": [],
   "source": []
  }
 ],
 "metadata": {
  "kernelspec": {
   "display_name": "Python 3 (ipykernel)",
   "language": "python",
   "name": "python3"
  },
  "language_info": {
   "codemirror_mode": {
    "name": "ipython",
    "version": 3
   },
   "file_extension": ".py",
   "mimetype": "text/x-python",
   "name": "python",
   "nbconvert_exporter": "python",
   "pygments_lexer": "ipython3",
   "version": "3.10.6"
  }
 },
 "nbformat": 4,
 "nbformat_minor": 5
}
