{
 "cells": [
  {
   "cell_type": "code",
   "execution_count": null,
   "id": "410c6a4e",
   "metadata": {},
   "outputs": [],
   "source": [
    "import os\n",
    "from typing import List\n",
    "import time\n",
    "\n",
    "import matplotlib.pyplot as plt\n",
    "import numpy as np\n",
    "import pyproj\n",
    "import rasterio\n",
    "import rasterio.features\n",
    "import shapely\n",
    "import torch\n",
    "\n",
    "from torchgeo.datasets.utils import download_url\n",
    "from torchgeo.transforms import indices\n",
    "from tqdm import tqdm"
   ]
  },
  {
   "cell_type": "markdown",
   "id": "454d467d",
   "metadata": {},
   "source": [
    "### Formato de carpetas generada por QGIS al descargar imágenes\n",
    "La carpeta `L2A_T19HDC_A038131_20221010T144648_2022-10-10_con` contiene 10 bandas en archivos separados.\n",
    "<pre>└── <font color=\"#12488B\"><b>L2A_T19HDC_A038131_20221010T144648_2022-10-10_con</b></font>\n",
    "    ├── <font color=\"#A347BA\"><b>RT_T19HDC_A038131_20221010T144648_B02.tif</b></font>\n",
    "    ├── <font color=\"#A347BA\"><b>RT_T19HDC_A038131_20221010T144648_B03.tif</b></font>\n",
    "    ├── <font color=\"#A347BA\"><b>RT_T19HDC_A038131_20221010T144648_B04.tif</b></font>\n",
    "    ├── <font color=\"#A347BA\"><b>RT_T19HDC_A038131_20221010T144648_B05.tif</b></font>\n",
    "    ├── <font color=\"#A347BA\"><b>RT_T19HDC_A038131_20221010T144648_B06.tif</b></font>\n",
    "    ├── <font color=\"#A347BA\"><b>RT_T19HDC_A038131_20221010T144648_B07.tif</b></font>\n",
    "    ├── <font color=\"#A347BA\"><b>RT_T19HDC_A038131_20221010T144648_B08.tif</b></font>\n",
    "    ├── <font color=\"#A347BA\"><b>RT_T19HDC_A038131_20221010T144648_B11.tif</b></font>\n",
    "    ├── <font color=\"#A347BA\"><b>RT_T19HDC_A038131_20221010T144648_B12.tif</b></font>\n",
    "    └── <font color=\"#A347BA\"><b>RT_T19HDC_A038131_20221010T144648_B8A.tif</b></font>\n",
    "</pre>\n",
    "\n",
    "### Después de procesar la imágenes el resultado sería:\n",
    "<pre><font color=\"#12488B\"><b>/ruta/para/guardar/imagenes</b></font>\n",
    "├── <font color=\"#A347BA\"><b>RT_T19HDC_A038131_20221010T144648_all.tif</b></font>\n",
    "└── <font color=\"#A347BA\"><b>RT_T19HDC_A038131_20221010T144648_rgb.tif</b></font>\n",
    "</pre>\n",
    "La imagen que termina en `_all.tif` contiene todas las bandas, y la que termina en `_rgb` solo las bandas `B04`, `B03` y `B02`."
   ]
  },
  {
   "cell_type": "code",
   "execution_count": 2,
   "id": "ce18f66e",
   "metadata": {},
   "outputs": [],
   "source": [
    "def extract_window(path: str, url: str, geometry: shapely.geometry.Polygon) -> None:\n",
    "    \"\"\"Recorta y guarda los archivos .tiff dada las coords.\"\"\"\n",
    "\n",
    "    with rasterio.open(url) as ds:\n",
    "        transform = pyproj.Transformer.from_crs(\"epsg:4326\", ds.crs)\n",
    "        # polygon to bbox (xyxy)\n",
    "        bbox = rasterio.features.bounds(geometry)\n",
    "        # convert bbox to source CRS (xyxy)\n",
    "        coords = [\n",
    "            transform.transform(bbox[3], bbox[0]),\n",
    "            transform.transform(bbox[1], bbox[2]),\n",
    "        ]\n",
    "        # convert coords to pixel coords (xyxy)\n",
    "        pcoords = [\n",
    "            ds.index(coords[0][0], coords[0][1]),\n",
    "            ds.index(coords[1][0], coords[1][1]),\n",
    "        ]\n",
    "        # convert bbox (xyxy) -> (xxyy)\n",
    "        bbox_xxyy = ((pcoords[0][0], pcoords[1][0]), (pcoords[0][1], pcoords[1][1]))\n",
    "        window = rasterio.windows.Window.from_slices(*bbox_xxyy)\n",
    "\n",
    "        # Copy and update tiff metadata for windowed image\n",
    "        metadata = ds.meta.copy()\n",
    "        metadata.update(\n",
    "            dict(\n",
    "                height=window.height,\n",
    "                width=window.width,\n",
    "                transform=rasterio.windows.transform(window, ds.transform),\n",
    "                compress=\"DEFLATE\",\n",
    "            )\n",
    "        )\n",
    "\n",
    "        # Write to geotiff\n",
    "        with rasterio.open(path, \"w\", **metadata) as ds_windowed:\n",
    "            ds_windowed.write(ds.read(1, window=window), 1)\n",
    "            \n",
    "\n",
    "def stack(root: str, alias: str, bands: List[str]) -> None:\n",
    "    \"\"\"Junta las bandas separadas en una imagen EPSG:4326 CRS.\"\"\"\n",
    "    files = [os.path.join(root + band) for band in bands]\n",
    "    with rasterio.open(files[0]) as ds:\n",
    "        metadata = ds.meta\n",
    "        metadata[\"count\"] = len(files)\n",
    "\n",
    "    with rasterio.open(f\"{root}{alias}.tif\", \"w\", **metadata) as dst:\n",
    "        for i, f in enumerate(files, start=1):\n",
    "            with rasterio.open(f) as src:\n",
    "                dst.write_band(i, src.read(1))\n"
   ]
  },
  {
   "cell_type": "markdown",
   "id": "a05e31e9",
   "metadata": {},
   "source": []
  },
  {
   "cell_type": "code",
   "execution_count": 3,
   "id": "d119fe05",
   "metadata": {
    "scrolled": true
   },
   "outputs": [],
   "source": [
    "#geometry = shapely.geometry.Polygon(\n",
    "#    [\n",
    "#        [-69.607866, -28.135092],\n",
    "#        [-69.440833, -28.228162],\n",
    "#        [-69.64045, -28.51795],\n",
    "#        [-69.814809, -28.417246],\n",
    "#    ]\n",
    "#)\n",
    "\n",
    "# coord del poligono\n",
    "geometry = shapely.geometry.Polygon(\n",
    "    [\n",
    "        [-69.82037354, -28.11996841],\n",
    "        [-69.42983246, -28.11996841],\n",
    "        [-69.82037354, -28.52018356],\n",
    "        [-69.42983246, -28.52018356],\n",
    "    ]\n",
    ")\n",
    "\n",
    "\n",
    "\n",
    "# ruta donde se encuetran todas las carpetas con la imagenes .tif\n",
    "# suelen terminar con \"_con\"\n",
    "path_root = '/media/chr/Linux/glaciares/'\n",
    "\n",
    "# se define el path donde se guardaran las imagenes finales\n",
    "# en este caso en la ruta: /media/chr/Linux/glaciares/dataset/polygon_images_bands_parallel/\n",
    "path_final = path_root + 'dataset/polygon_images_bands/'\n",
    "\n",
    "# se crea un arreglo que contiene todas las carpetas\n",
    "folders = [path for path in os.listdir(path_root) if path.endswith(\"_con\")]\n",
    "\n",
    "# Todas las bandas\n",
    "bands_all = [\"B04.tif\", \"B03.tif\", \"B02.tif\", \"B05.tif\", \"B06.tif\", \"B07.tif\", \"B08.tif\", \"B8A.tif\", \"B11.tif\", \"B12.tif\"]\n",
    "\n",
    "# Solo se utilizan las bandas RGB para crear las imagenes .jpg\n",
    "bands_rgb = [\"B04.tif\", \"B03.tif\", \"B02.tif\"] # RGB        "
   ]
  },
  {
   "cell_type": "code",
   "execution_count": null,
   "id": "5002378c",
   "metadata": {},
   "outputs": [
    {
     "name": "stderr",
     "output_type": "stream",
     "text": [
      " 60%|███████████████████████████                  | 3/5 [03:50<02:41, 80.58s/it]"
     ]
    }
   ],
   "source": [
    "for folder in tqdm(folders[:5]):\n",
    "    image_name = os.listdir(path_root + folder)[0][:-7]\n",
    "    try:\n",
    "        for band in bands_all:\n",
    "            # Se extrae solo la parte del poligono\n",
    "            extract_window(path_final + image_name + band, path_root + folder + '/' + image_name + band, geometry)\n",
    "        # Se crea .tif con las bandas RGB\n",
    "        stack(path_final + image_name, \"rgb\", bands_rgb)\n",
    "        # Se crea .tif con todas las bandas\n",
    "        stack(path_final + image_name, \"all\", bands_all)\n",
    "    except:\n",
    "        # Quizas falta alguna banda .tif\n",
    "        print('Error en: ', path_root + folder + '/' + image_name + band)"
   ]
  },
  {
   "cell_type": "markdown",
   "id": "b6d2aa02",
   "metadata": {},
   "source": [
    "Se está trabajando en una opción paralelizable"
   ]
  },
  {
   "cell_type": "code",
   "execution_count": null,
   "id": "09813c59",
   "metadata": {},
   "outputs": [],
   "source": []
  }
 ],
 "metadata": {
  "kernelspec": {
   "display_name": "Python 3 (ipykernel)",
   "language": "python",
   "name": "python3"
  },
  "language_info": {
   "codemirror_mode": {
    "name": "ipython",
    "version": 3
   },
   "file_extension": ".py",
   "mimetype": "text/x-python",
   "name": "python",
   "nbconvert_exporter": "python",
   "pygments_lexer": "ipython3",
   "version": "3.10.6"
  }
 },
 "nbformat": 4,
 "nbformat_minor": 5
}
